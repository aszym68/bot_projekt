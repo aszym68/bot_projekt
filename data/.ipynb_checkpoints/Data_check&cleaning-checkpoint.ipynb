{
 "cells": [
  {
   "cell_type": "code",
   "execution_count": 10,
   "id": "d121cd53-f407-46ce-a598-ca32523cc76d",
   "metadata": {},
   "outputs": [
    {
     "ename": "ModuleNotFoundError",
     "evalue": "No module named 'talib'",
     "output_type": "error",
     "traceback": [
      "\u001b[1;31m---------------------------------------------------------------------------\u001b[0m",
      "\u001b[1;31mModuleNotFoundError\u001b[0m                       Traceback (most recent call last)",
      "Cell \u001b[1;32mIn[10], line 1\u001b[0m\n\u001b[1;32m----> 1\u001b[0m \u001b[38;5;28;01mimport\u001b[39;00m\u001b[38;5;250m \u001b[39m\u001b[38;5;21;01mtalib\u001b[39;00m \n\u001b[0;32m      2\u001b[0m \u001b[38;5;28;01mimport\u001b[39;00m\u001b[38;5;250m \u001b[39m\u001b[38;5;21;01mpandas\u001b[39;00m\u001b[38;5;250m \u001b[39m\u001b[38;5;28;01mas\u001b[39;00m\u001b[38;5;250m \u001b[39m\u001b[38;5;21;01mpd\u001b[39;00m\n\u001b[0;32m      3\u001b[0m \u001b[38;5;28;01mimport\u001b[39;00m\u001b[38;5;250m \u001b[39m\u001b[38;5;21;01mseaborn\u001b[39;00m\u001b[38;5;250m \u001b[39m\u001b[38;5;28;01mas\u001b[39;00m\u001b[38;5;250m \u001b[39m\u001b[38;5;21;01msb\u001b[39;00m\n",
      "\u001b[1;31mModuleNotFoundError\u001b[0m: No module named 'talib'"
     ]
    }
   ],
   "source": [
    "import talib \n",
    "import pandas as pd\n",
    "import seaborn as sb\n",
    "import matplotlib.pyplot as plt\n",
    " \n",
    "#importing Dataset\n",
    "data = pd.read_csv('AAPL.csv')\n",
    "\n",
    "#changing date format to European instead of American \n",
    "df = pd.DataFrame(data)\n",
    "df[\"Date\"] = pd.to_datetime(df[\"Date\"])\n",
    "df[\"Date\"] = df['Date'].dt.strftime('%d/%m/%Y')\n",
    "\n",
    "# Calculate RSI (Relative Strength Index) with a 14-day period\n",
    "df[\"RSI_14\"] = talib.RSI(df[\"Close\"], timeperiod=14)\n",
    "\n",
    "# Calculate MACD (Moving Average Convergence Divergence)\n",
    "df[\"MACD\"], df[\"MACD_Signal\"], df[\"MACD_Hist\"] = talib.MACD(\n",
    "    df[\"Close\"], fastperiod=12, slowperiod=26, signalperiod=9\n",
    ")\n",
    "\n",
    "# Calculate ATR (Average True Range) with a 14-day period\n",
    "df[\"ATR_14\"] = talib.ATR(df[\"High\"], df[\"Low\"], df[\"Close\"], timeperiod=14)\n",
    "\n",
    "# Calculate OBV (On-Balance Volume)\n",
    "df[\"OBV\"] = talib.OBV(df[\"Close\"], df[\"Volume\"])\n",
    "\n",
    "# Save the updated DataFrame to a new CSV file\n",
    "df.to_csv(\"AAPL_with_indicators.csv\", index=False)\n",
    "\n",
    "# Display the first few rows of the updated DataFrame\n",
    "\n",
    "print(df.head())\n",
    "\n",
    "\n"
   ]
  },
  {
   "cell_type": "code",
   "execution_count": null,
   "id": "1bb26ff9-2ca4-463c-9c83-6005e5256840",
   "metadata": {},
   "outputs": [],
   "source": []
  }
 ],
 "metadata": {
  "kernelspec": {
   "display_name": "Python 3 (ipykernel)",
   "language": "python",
   "name": "python3"
  },
  "language_info": {
   "codemirror_mode": {
    "name": "ipython",
    "version": 3
   },
   "file_extension": ".py",
   "mimetype": "text/x-python",
   "name": "python",
   "nbconvert_exporter": "python",
   "pygments_lexer": "ipython3",
   "version": "3.12.7"
  }
 },
 "nbformat": 4,
 "nbformat_minor": 5
}
