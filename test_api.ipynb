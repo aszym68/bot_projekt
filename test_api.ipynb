{
 "cells": [
  {
   "cell_type": "code",
   "execution_count": 1,
   "id": "62f030a7",
   "metadata": {},
   "outputs": [
    {
     "name": "stdout",
     "output_type": "stream",
     "text": [
      "              timestamp      open      high     low   close  volume\n",
      "0   2025-01-10 19:55:00  237.0000  237.0400  236.96  237.03    6521\n",
      "1   2025-01-10 19:50:00  237.0000  237.0100  236.96  236.99    1474\n",
      "2   2025-01-10 19:45:00  236.9800  237.0000  236.96  237.00     744\n",
      "3   2025-01-10 19:40:00  236.9500  237.0100  236.95  236.98    2626\n",
      "4   2025-01-10 19:35:00  236.9812  237.0200  236.95  237.00     517\n",
      "..                  ...       ...       ...     ...     ...     ...\n",
      "95  2025-01-10 12:00:00  234.9000  235.3900  234.82  235.08  643117\n",
      "96  2025-01-10 11:55:00  234.7801  234.9684  234.36  234.89  537397\n",
      "97  2025-01-10 11:50:00  234.2300  234.8700  234.21  234.78  636005\n",
      "98  2025-01-10 11:45:00  234.3400  234.7800  233.98  234.20  729184\n",
      "99  2025-01-10 11:40:00  233.4600  234.4300  233.46  234.33  768926\n",
      "\n",
      "[100 rows x 6 columns]\n"
     ]
    }
   ],
   "source": [
    "import requests\n",
    "import pandas as pd\n",
    "\n",
    "url = 'https://www.alphavantage.co/query?function=TIME_SERIES_INTRADAY&symbol=AAPL&interval=5min&apikey=HRVCBXNVYPUS72OM&datatype=csv'\n",
    "response = requests.get(url)\n",
    "\n",
    "# sprawdzanie czy request pomyślny\n",
    "if response.status_code == 200:\n",
    "    # konwersja na pandas dataframe\n",
    "    from io import StringIO\n",
    "    csv_data = StringIO(response.text)\n",
    "    df = pd.read_csv(csv_data)\n",
    "    print(df)\n",
    "else:\n",
    "    print(f\"Failed to fetch data. Status code: {response.status_code}\")"
   ]
  },
  {
   "cell_type": "code",
   "execution_count": null,
   "id": "6124b57c",
   "metadata": {},
   "outputs": [],
   "source": [
    "corp_symbol = {'Apple': 'AAPL', 'Microsoft': 'MSFT',\n",
    "               'Amazon': 'AMZN', 'Alphabet': 'GOOG', 'Tesla': 'TSLA',\n",
    "               'Nvidia': 'NVDA', 'Meta Platforms': 'META'}"
   ]
  },
  {
   "cell_type": "code",
   "execution_count": 2,
   "id": "c6d6d988",
   "metadata": {},
   "outputs": [],
   "source": [
    "import requests\n",
    "import pandas as pd\n",
    "from io import StringIO\n",
    "\n",
    "corp_symbol = {\n",
    "    'Apple': 'AAPL',\n",
    "    'Microsoft': 'MSFT',\n",
    "    'Amazon': 'AMZN',\n",
    "    'Alphabet': 'GOOG',\n",
    "    'Tesla': 'TSLA',\n",
    "    'Nvidia': 'NVDA',\n",
    "    'Meta Platforms': 'META'\n",
    "}\n",
    "\n",
    "def fetch_stock_data(company_name, api_key='HRVCBXNVYPUS72OM', interval='5min'):\n",
    "    \"\"\"\n",
    "    Pobiera dane giełdowe dla wybranej korporacji z Alpha Vantage.\n",
    "    \n",
    "    :param company_name: Nazwa korporacji (np. 'Apple', 'Microsoft')\n",
    "    :param api_key: Klucz API Alpha Vantage (domyślny: 'HRVCBXNVYPUS72OM')\n",
    "    :param interval: Interwał czasowy (np. '5min', '15min', '1h')\n",
    "    :return: DataFrame z danymi giełdowymi lub None w przypadku błędu\n",
    "    \"\"\"\n",
    "    if company_name not in corp_symbol:\n",
    "        print(f\"Błąd: {company_name} nie znajduje się na liście obsługiwanych korporacji.\")\n",
    "        return None\n",
    "    \n",
    "    symbol = corp_symbol[company_name]\n",
    "    url = f'https://www.alphavantage.co/query?function=TIME_SERIES_INTRADAY&symbol={symbol}&interval={interval}&apikey={api_key}&datatype=csv'\n",
    "    response = requests.get(url)\n",
    "    \n",
    "    if response.status_code == 200:\n",
    "        # Konwersja danych na DataFrame\n",
    "        csv_data = StringIO(response.text)\n",
    "        df = pd.read_csv(csv_data)\n",
    "        return df\n",
    "    else:\n",
    "        print(f\"Nie udało się pobrać danych. Kod statusu: {response.status_code}\")\n",
    "        return None\n"
   ]
  },
  {
   "cell_type": "code",
   "execution_count": 3,
   "id": "a6054206",
   "metadata": {},
   "outputs": [
    {
     "name": "stdout",
     "output_type": "stream",
     "text": [
      "             timestamp     open    high     low    close  volume\n",
      "0  2025-01-10 19:55:00  615.940  615.94  615.01  615.920     864\n",
      "1  2025-01-10 19:50:00  615.860  615.94  614.84  615.010    2574\n",
      "2  2025-01-10 19:45:00  615.750  615.86  614.83  615.860    1097\n",
      "3  2025-01-10 19:40:00  614.830  615.86  614.83  615.350     341\n",
      "4  2025-01-10 19:35:00  615.775  615.85  615.26  615.345    3201\n"
     ]
    }
   ],
   "source": [
    "df = fetch_stock_data('Meta Platforms')\n",
    "if df is not None:\n",
    "    print(df.head())  # Wyświetlenie pierwszych 5 wierszy"
   ]
  }
 ],
 "metadata": {
  "kernelspec": {
   "display_name": "Python 3 (ipykernel)",
   "language": "python",
   "name": "python3"
  },
  "language_info": {
   "codemirror_mode": {
    "name": "ipython",
    "version": 3
   },
   "file_extension": ".py",
   "mimetype": "text/x-python",
   "name": "python",
   "nbconvert_exporter": "python",
   "pygments_lexer": "ipython3",
   "version": "3.11.5"
  }
 },
 "nbformat": 4,
 "nbformat_minor": 5
}
