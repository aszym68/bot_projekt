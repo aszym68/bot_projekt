{
 "cells": [
  {
   "cell_type": "code",
   "execution_count": 7,
   "id": "62f030a7",
   "metadata": {},
   "outputs": [
    {
     "name": "stdout",
     "output_type": "stream",
     "text": [
      "              timestamp      open      high       low    close  volume\n",
      "0   2025-01-08 19:55:00  242.3100  242.4000  242.3000  242.360    1789\n",
      "1   2025-01-08 19:50:00  242.2000  242.4000  242.2000  242.300    1805\n",
      "2   2025-01-08 19:45:00  242.2800  242.3600  242.2000  242.200     728\n",
      "3   2025-01-08 19:40:00  242.2750  242.3600  242.2000  242.320     484\n",
      "4   2025-01-08 19:35:00  242.3350  242.4000  242.2000  242.200    2864\n",
      "..                  ...       ...       ...       ...      ...     ...\n",
      "95  2025-01-08 12:00:00  243.2800  243.2828  242.9755  243.000  174600\n",
      "96  2025-01-08 11:55:00  243.3000  243.4300  243.2100  243.275  152082\n",
      "97  2025-01-08 11:50:00  243.4101  243.4499  243.1500  243.300  311897\n",
      "98  2025-01-08 11:45:00  243.4300  243.5800  243.3200  243.420  238782\n",
      "99  2025-01-08 11:40:00  243.3600  243.5578  243.2100  243.445  196968\n",
      "\n",
      "[100 rows x 6 columns]\n"
     ]
    }
   ],
   "source": [
    "import requests\n",
    "import pandas as pd\n",
    "\n",
    "url = 'https://www.alphavantage.co/query?function=TIME_SERIES_INTRADAY&symbol=AAPL&interval=5min&apikey=HRVCBXNVYPUS72OM&datatype=csv'\n",
    "response = requests.get(url)\n",
    "\n",
    "# sprawdzanie czy request pomyślny\n",
    "if response.status_code == 200:\n",
    "    # konwersja na pandas dataframe\n",
    "    from io import StringIO\n",
    "    csv_data = StringIO(response.text)\n",
    "    df = pd.read_csv(csv_data)\n",
    "    print(df)\n",
    "else:\n",
    "    print(f\"Failed to fetch data. Status code: {response.status_code}\")"
   ]
  }
 ],
 "metadata": {
  "kernelspec": {
   "display_name": "Python 3 (ipykernel)",
   "language": "python",
   "name": "python3"
  },
  "language_info": {
   "codemirror_mode": {
    "name": "ipython",
    "version": 3
   },
   "file_extension": ".py",
   "mimetype": "text/x-python",
   "name": "python",
   "nbconvert_exporter": "python",
   "pygments_lexer": "ipython3",
   "version": "3.11.5"
  }
 },
 "nbformat": 4,
 "nbformat_minor": 5
}
